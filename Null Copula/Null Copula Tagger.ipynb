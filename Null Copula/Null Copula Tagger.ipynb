{
 "cells": [
  {
   "cell_type": "code",
   "execution_count": null,
   "id": "5b51ad93-cfaf-4005-9390-45f67994dc3a",
   "metadata": {},
   "outputs": [],
   "source": [
    "import numpy as np\n",
    "import pandas as pd\n",
    "import re\n",
    "import sklearn\n",
    "import spacy\n",
    "import nltk"
   ]
  },
  {
   "cell_type": "code",
   "execution_count": null,
   "id": "193dcede-d088-4cbd-9cb7-839195a28361",
   "metadata": {},
   "outputs": [],
   "source": [
    "#Import training data \n",
    "#allData = pd.read_csv(\"null_copula.txt\", delimiter=\"\\t\", quoting=csv.QUOTE_NONE, encoding='utf-8')"
   ]
  },
  {
   "cell_type": "code",
   "execution_count": null,
   "id": "189d8f76-2fe4-427a-a165-3725db885fbb",
   "metadata": {},
   "outputs": [],
   "source": [
    "# Text preprocessing and adds speaker column\n",
    "speakers = []\n",
    "for i in range(len(allData)):\n",
    "    if (':' in allData.iloc[i, 0]):\n",
    "        index = allData.iloc[i, 0].index(':')\n",
    "        speakers.append((allData.iloc[i, 0])[:index+1])\n",
    "        allData.iloc[i, 0] = re.sub(\"[a-zA-Z]:\\s+\", \"\", allData.iloc[i, 0]) \n",
    "    else:\n",
    "        speakers.append('F:')\n",
    "    allData.iloc[i, 0] = re.sub(\"[a-zA-Z]:\\s+\", \"\", allData.iloc[i, 0])\n",
    "allData.insert (0, \"speaker\", speakers)"
   ]
  },
  {
   "cell_type": "code",
   "execution_count": null,
   "id": "5843924d-8fea-445d-abe5-c30fbaa19a72",
   "metadata": {},
   "outputs": [],
   "source": [
    "class Sentence:\n",
    "# Creates a Sentence object\n",
    "# text = text of Sentence\n",
    "# null = which occurence of potential null copula is being looked at in the sentence\n",
    "  # eg. if the variable be is set to 2, the model will observe whether the second noun/verb clause contains an instance of null copula\n",
    "# num = the index of the Sentence in the original csv\n",
    "    nullCop = 0\n",
    "    r1 = 0; r2 = 0;\n",
    "    def __init__(self, text, null, num, true):\n",
    "        self.text = text\n",
    "        self.num = num\n",
    "        self.null = null\n",
    "        self.true = true"
   ]
  },
  {
   "cell_type": "code",
   "execution_count": null,
   "id": "bf3ff4a8-4744-4886-acf2-8b25a294a20b",
   "metadata": {},
   "outputs": [],
   "source": [
    "# Preproccesses training text for linguistic analysis\n",
    "\n",
    "lines = []\n",
    "\n",
    "with open(\"null_copula.txt\", \"r\", encoding=\"utf-8\") as tsv_file: #these files are tab separated but you can easily change this to CSV\n",
    "    tsv_reader = csv.reader(tsv_file, delimiter=\"\\t\")\n",
    "    header = next(tsv_reader)\n",
    "    for row in tsv_reader:\n",
    "        row = row[:1]\n",
    "        row[0] = re.sub(\"[a-zA-Z]:\\s+\", \"\", row[0]) #removes the interviewer tag\n",
    "        row[0] = re.sub(\"\\s{2,}\", \" \", row[0]) #removes excessive spaces\n",
    "        row[0] = re.sub(\"’|‘\", \"'\", row[0]) #fixes apostrophes\n",
    "        row[0] = re.sub(\"—\", \"--\", row[0]) #m-dash was causing formatting issues, changed it to two dashes\n",
    "        row[0] = re.sub(\"“\", '\"', row[0]) #fixes quotation marks    \n",
    "        lines.append(row[0])\n",
    "         \n",
    "print(len(lines))"
   ]
  },
  {
   "cell_type": "code",
   "execution_count": null,
   "id": "27faa40b-f4d1-4b8e-b9e6-b3284273d080",
   "metadata": {},
   "outputs": [],
   "source": [
    "# Create an array of Sentence objects with at least one noun/verb pair"
   ]
  }
 ],
 "metadata": {
  "kernelspec": {
   "display_name": "Python 3 (ipykernel)",
   "language": "python",
   "name": "python3"
  },
  "language_info": {
   "codemirror_mode": {
    "name": "ipython",
    "version": 3
   },
   "file_extension": ".py",
   "mimetype": "text/x-python",
   "name": "python",
   "nbconvert_exporter": "python",
   "pygments_lexer": "ipython3",
   "version": "3.9.19"
  }
 },
 "nbformat": 4,
 "nbformat_minor": 5
}
